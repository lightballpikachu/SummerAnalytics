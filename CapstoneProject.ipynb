{
  "nbformat": 4,
  "nbformat_minor": 0,
  "metadata": {
    "colab": {
      "provenance": [],
      "authorship_tag": "ABX9TyMdkoJf4ua8XfPJu3V6u2R2",
      "include_colab_link": true
    },
    "kernelspec": {
      "name": "python3",
      "display_name": "Python 3"
    },
    "language_info": {
      "name": "python"
    }
  },
  "cells": [
    {
      "cell_type": "markdown",
      "metadata": {
        "id": "view-in-github",
        "colab_type": "text"
      },
      "source": [
        "<a href=\"https://colab.research.google.com/github/lightballpikachu/SummerAnalytics/blob/main/CapstoneProject.ipynb\" target=\"_parent\"><img src=\"https://colab.research.google.com/assets/colab-badge.svg\" alt=\"Open In Colab\"/></a>"
      ]
    },
    {
      "cell_type": "markdown",
      "source": [
        "Model 1:"
      ],
      "metadata": {
        "id": "i2LWHQo1-tQ6"
      }
    },
    {
      "cell_type": "code",
      "execution_count": null,
      "metadata": {
        "id": "pDZrGZal9yp3",
        "collapsed": true
      },
      "outputs": [],
      "source": [
        "!pip install bokeh\n",
        "\n",
        "import numpy as np\n",
        "import pandas as pd\n",
        "import matplotlib.pyplot as plt\n",
        "import datetime\n",
        "from datetime import datetime\n",
        "import bokeh.plotting\n",
        "import panel as pn\n",
        "\n",
        "from bokeh.plotting import figure, show, output_notebook\n",
        "from bokeh.models import ColumnDataSource\n",
        "\n",
        "output_notebook()\n",
        "\n",
        "df = pd.read_csv(\"/content/dataset.csv\")\n",
        "df[\"Timestamp\"] = pd.to_datetime(df[\"LastUpdatedDate\"] + \" \" + df[\"LastUpdatedTime\"], format=\"%d-%m-%Y %H:%M:%S\")\n",
        "df = df[[\"Timestamp\", \"Occupancy\", \"Capacity\"]]\n",
        "df[\"Day\"] = df[\"Timestamp\"].dt.date\n",
        "\n",
        "daily_summary = df.groupby(\"Day\").agg({\n",
        "    \"Occupancy\": [\"max\", \"min\"],\n",
        "    \"Capacity\": \"max\"\n",
        "}).reset_index()\n",
        "\n",
        "daily_summary.columns = [\"Day\", \"OccMax\", \"OccMin\", \"Capacity\"]\n",
        "daily_summary[\"Price\"] = 10 + (daily_summary[\"OccMax\"] - daily_summary[\"OccMin\"]) / daily_summary[\"Capacity\"]\n",
        "\n",
        "source = ColumnDataSource(data={\n",
        "    \"Day\": pd.to_datetime(daily_summary[\"Day\"]),\n",
        "    \"Price\": daily_summary[\"Price\"]\n",
        "})\n",
        "\n",
        "fig = figure(x_axis_type=\"datetime\", title=\"Model 1: Daily Parking Price\", width=800, height=400)\n",
        "fig.line(x=\"Day\", y=\"Price\", source=source, line_width=2, color=\"navy\")\n",
        "fig.circle(x=\"Day\", y=\"Price\", source=source, size=6, color=\"red\")\n",
        "\n",
        "show(fig)\n"
      ]
    },
    {
      "cell_type": "markdown",
      "source": [
        "We begin with a simple baseline model where the price increases linearly with the occupancy rate of the parking lot.\n",
        "The formula used is:\n",
        "\n",
        "Price=10+𝛼⋅(Occupancy/Capacity)\n",
        "\n",
        "Here, we chose 𝛼=5 to scale prices moderately. This allows for variation from $10 to $15+ depending on how full the lot is. Prices are bounded between $5 and $20 to keep them realistic.\n",
        "\n",
        "This model serves as a reference to evaluate more intelligent models later."
      ],
      "metadata": {
        "id": "74XlhWxTFdgs"
      }
    },
    {
      "cell_type": "markdown",
      "source": [
        "Model 2:"
      ],
      "metadata": {
        "id": "-dhi0EkZ-wYh"
      }
    },
    {
      "cell_type": "code",
      "source": [
        "!pip install bokeh\n",
        "\n",
        "import pandas as pd\n",
        "import numpy as np\n",
        "from bokeh.plotting import figure, show, output_notebook\n",
        "from bokeh.models import ColumnDataSource\n",
        "\n",
        "output_notebook()\n",
        "\n",
        "# Load dataset\n",
        "df = pd.read_csv(\"/content/dataset.csv\")\n",
        "df = df[df[\"Capacity\"] > 0]\n",
        "\n",
        "# Timestamp construction\n",
        "df[\"Timestamp\"] = pd.to_datetime(df[\"LastUpdatedDate\"] + \" \" + df[\"LastUpdatedTime\"], format=\"%d-%m-%Y %H:%M:%S\")\n",
        "df[\"Timestamp\"] = df[\"Timestamp\"].dt.round(\"30min\")\n",
        "\n",
        "# Numeric conversions\n",
        "df[\"Capacity\"] = pd.to_numeric(df[\"Capacity\"], errors=\"coerce\")\n",
        "df[\"Occupancy\"] = pd.to_numeric(df[\"Occupancy\"], errors=\"coerce\")\n",
        "df[\"OccupancyRate\"] = df[\"Occupancy\"] / df[\"Capacity\"]\n",
        "\n",
        "# Vehicle weight mapping\n",
        "vehicle_weights = {\"car\": 1.0, \"bike\": 0.6, \"truck\": 1.5}\n",
        "df[\"VehicleTypeWeight\"] = df[\"VehicleType\"].str.lower().map(vehicle_weights).fillna(1.0)\n",
        "\n",
        "# Convert feature columns to numeric\n",
        "df[\"QueueLength\"] = pd.to_numeric(df[\"QueueLength\"], errors=\"coerce\")\n",
        "df[\"TrafficConditionNearby\"] = pd.to_numeric(df[\"TrafficConditionNearby\"], errors=\"coerce\")\n",
        "df[\"IsSpecialDay\"] = pd.to_numeric(df[\"IsSpecialDay\"], errors=\"coerce\")\n",
        "\n",
        "# Demand formula\n",
        "df[\"Demand\"] = (\n",
        "    2.0 * df[\"OccupancyRate\"] +\n",
        "    1.0 * df[\"QueueLength\"] +\n",
        "    0.3 * df[\"IsSpecialDay\"] +\n",
        "    0.8 * df[\"VehicleTypeWeight\"]\n",
        ")\n",
        "\n",
        "\n",
        "# Normalize demand\n",
        "df[\"Demand\"] = df[\"Demand\"].fillna(0)\n",
        "d_min, d_max = df[\"Demand\"].min(), df[\"Demand\"].max()\n",
        "df[\"NormDemand\"] = (df[\"Demand\"] - d_min) / (d_max - d_min + 1e-6)\n",
        "\n",
        "# Final price\n",
        "df[\"RawPrice\"] = 10 * (1 + 0.6 * df[\"NormDemand\"])\n",
        "df[\"Price\"] = df[\"RawPrice\"].clip(lower=5, upper=20)\n",
        "\n",
        "# Prepare for plotting\n",
        "df = df.dropna(subset=[\"Price\", \"Timestamp\"])\n",
        "df = df.sort_values(\"Timestamp\").reset_index(drop=True)\n",
        "\n",
        "source = ColumnDataSource(data={\n",
        "    \"Timestamp\": df[\"Timestamp\"],\n",
        "    \"Price\": df[\"Price\"]\n",
        "})\n",
        "\n",
        "# Bokeh plot\n",
        "fig = figure(x_axis_type=\"datetime\", title=\"Model 2: Demand-Based Pricing\", width=800, height=400)\n",
        "fig.line(x=\"Timestamp\", y=\"Price\", source=source, line_width=2, color=\"navy\")\n",
        "fig.circle(x=\"Timestamp\", y=\"Price\", source=source, size=5, color=\"orange\")\n",
        "\n",
        "show(fig)\n"
      ],
      "metadata": {
        "id": "lu4ccGB9-yCk",
        "collapsed": true
      },
      "execution_count": null,
      "outputs": []
    },
    {
      "cell_type": "markdown",
      "source": [
        "Model 2 improves on the baseline by introducing a demand function that includes multiple real-world features. The price adjusts based on:\n",
        "\n",
        "Occupancy rate (how full the lot is)\n",
        "\n",
        "Queue length (indicates excess demand)\n",
        "\n",
        "Special day indicator (e.g., holidays)\n",
        "\n",
        "Vehicle type (heavier/larger vehicles take more space)\n",
        "\n",
        "The demand function:\n",
        "\n",
        "Demand=2.0⋅OccupancyRate+1.0⋅QueueLength+0.3⋅IsSpecialDay+0.8⋅VehicleTypeWeight\n",
        "\n",
        "We normalize demand and use it to adjust the price:\n",
        "\n",
        "Price=10⋅(1+0.6⋅NormalizedDemand)\n",
        "\n",
        "Prices are bounded between $5 and $20. This model captures more behavioral context and produces realistic price variation across lots and time."
      ],
      "metadata": {
        "id": "w4abeNqMF4K7"
      }
    },
    {
      "cell_type": "markdown",
      "source": [],
      "metadata": {
        "id": "HrIvEe6FAtjN"
      }
    }
  ]
}